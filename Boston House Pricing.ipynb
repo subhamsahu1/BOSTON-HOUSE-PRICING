{
 "cells": [
  {
   "cell_type": "code",
   "execution_count": null,
   "id": "ee2aa38f",
   "metadata": {},
   "outputs": [
    {
     "ename": "",
     "evalue": "",
     "output_type": "error",
     "traceback": [
      "\u001b[1;31mRunning cells with 'Python 3.9.0 (conda)' requires ipykernel package.\n",
      "\u001b[1;31mRun the following command to install 'ipykernel' into the Python environment. \n",
      "\u001b[1;31mCommand: 'conda install -p c:\\MY GIT\\Boston-House-Pricing\\venv ipykernel --update-deps --force-reinstall'"
     ]
    }
   ],
   "source": [
    "import numpy as np\n",
    "import pandas as pd\n",
    "import matplotlib.pyplot as plt\n",
    "%matplotlib inline"
   ]
  },
  {
   "cell_type": "code",
   "execution_count": null,
   "id": "c6925d33",
   "metadata": {},
   "outputs": [],
   "source": [
    "import warnings\n",
    "warnings.filterwarnings(\"ignore\")"
   ]
  },
  {
   "cell_type": "markdown",
   "id": "e2d1f2e0",
   "metadata": {},
   "source": [
    "## Load the Boston House Pricing Dataset"
   ]
  },
  {
   "cell_type": "code",
   "execution_count": null,
   "id": "babd9a29",
   "metadata": {},
   "outputs": [],
   "source": [
    "from sklearn.datasets import load_boston"
   ]
  },
  {
   "cell_type": "code",
   "execution_count": null,
   "id": "96dc6fc1",
   "metadata": {},
   "outputs": [],
   "source": [
    "boston = load_boston()"
   ]
  },
  {
   "cell_type": "code",
   "execution_count": null,
   "id": "57416ddb",
   "metadata": {},
   "outputs": [],
   "source": [
    "type(boston)"
   ]
  },
  {
   "cell_type": "code",
   "execution_count": null,
   "id": "e3fb616e",
   "metadata": {},
   "outputs": [],
   "source": [
    "boston.keys()"
   ]
  },
  {
   "cell_type": "code",
   "execution_count": null,
   "id": "586c7039",
   "metadata": {},
   "outputs": [],
   "source": [
    "# Lets check the description of dataset\n",
    "print(boston.DESCR)"
   ]
  },
  {
   "cell_type": "code",
   "execution_count": null,
   "id": "236fc35f",
   "metadata": {},
   "outputs": [],
   "source": [
    "print(boston.data)"
   ]
  },
  {
   "cell_type": "code",
   "execution_count": null,
   "id": "5a38d7f6",
   "metadata": {},
   "outputs": [],
   "source": [
    "print(boston.feature_names)"
   ]
  },
  {
   "cell_type": "code",
   "execution_count": null,
   "id": "ab65a921",
   "metadata": {},
   "outputs": [],
   "source": [
    "print(boston.target)"
   ]
  },
  {
   "cell_type": "code",
   "execution_count": null,
   "id": "4e41e84d",
   "metadata": {},
   "outputs": [],
   "source": [
    "print(boston.filename)"
   ]
  },
  {
   "cell_type": "code",
   "execution_count": null,
   "id": "5ab2e853",
   "metadata": {},
   "outputs": [],
   "source": [
    "print(boston.data_module)"
   ]
  },
  {
   "cell_type": "markdown",
   "id": "91841cf9",
   "metadata": {},
   "source": [
    "## Preparaing the dataset"
   ]
  },
  {
   "cell_type": "code",
   "execution_count": null,
   "id": "9b5aaba5",
   "metadata": {},
   "outputs": [],
   "source": [
    "dataset = pd.DataFrame(boston.data, columns=boston.feature_names)"
   ]
  },
  {
   "cell_type": "code",
   "execution_count": null,
   "id": "98517359",
   "metadata": {},
   "outputs": [],
   "source": [
    "dataset.head()"
   ]
  },
  {
   "cell_type": "code",
   "execution_count": null,
   "id": "d720a811",
   "metadata": {},
   "outputs": [],
   "source": [
    "dataset['Price'] = boston.target"
   ]
  },
  {
   "cell_type": "code",
   "execution_count": null,
   "id": "839165d8",
   "metadata": {},
   "outputs": [],
   "source": [
    "dataset.head()"
   ]
  },
  {
   "cell_type": "code",
   "execution_count": null,
   "id": "e6614437",
   "metadata": {},
   "outputs": [],
   "source": [
    "dataset.tail()"
   ]
  },
  {
   "cell_type": "code",
   "execution_count": null,
   "id": "d3742dca",
   "metadata": {},
   "outputs": [],
   "source": [
    "dataset.shape"
   ]
  },
  {
   "cell_type": "code",
   "execution_count": null,
   "id": "9c8a1f0a",
   "metadata": {},
   "outputs": [],
   "source": [
    "dataset.info()"
   ]
  },
  {
   "cell_type": "code",
   "execution_count": null,
   "id": "8ad4dd1a",
   "metadata": {},
   "outputs": [],
   "source": [
    "#Summarizing the stats of the data\n",
    "dataset.describe()"
   ]
  },
  {
   "cell_type": "code",
   "execution_count": null,
   "id": "3926577a",
   "metadata": {},
   "outputs": [],
   "source": [
    "## Check the missing values"
   ]
  },
  {
   "cell_type": "code",
   "execution_count": null,
   "id": "6574af85",
   "metadata": {},
   "outputs": [],
   "source": [
    "dataset.isnull().sum()"
   ]
  },
  {
   "cell_type": "code",
   "execution_count": null,
   "id": "5e441de9",
   "metadata": {},
   "outputs": [],
   "source": [
    "import missingno as mn"
   ]
  },
  {
   "cell_type": "code",
   "execution_count": null,
   "id": "d70913c8",
   "metadata": {},
   "outputs": [],
   "source": [
    "mn.bar(dataset)"
   ]
  },
  {
   "cell_type": "markdown",
   "id": "244c5425",
   "metadata": {},
   "source": [
    "From the above visualisation we can observe that there is perticular no missing values is there in the dataframe."
   ]
  },
  {
   "cell_type": "markdown",
   "id": "111aec3c",
   "metadata": {},
   "source": [
    "### Exploratory Data Analysis"
   ]
  },
  {
   "cell_type": "markdown",
   "id": "f011ad4b",
   "metadata": {},
   "source": [
    " Check Correlation among features."
   ]
  },
  {
   "cell_type": "code",
   "execution_count": null,
   "id": "bb12a5da",
   "metadata": {},
   "outputs": [],
   "source": [
    "dataset.corr()"
   ]
  },
  {
   "cell_type": "code",
   "execution_count": null,
   "id": "53e73649",
   "metadata": {},
   "outputs": [],
   "source": [
    "import seaborn as sns"
   ]
  },
  {
   "cell_type": "code",
   "execution_count": null,
   "id": "be402302",
   "metadata": {},
   "outputs": [],
   "source": [
    "correlation_matrix = dataset.corr().round(2)\n",
    "plt.figure(figsize = (12,10))\n",
    "sns.heatmap(data=correlation_matrix, annot=True) # annot = True to print the values inside the square"
   ]
  },
  {
   "cell_type": "markdown",
   "id": "09a35c24",
   "metadata": {},
   "source": [
    "To fit a linear regression model, we select those features which have a high correlation with our target variable Price. By looking at the correlation matrix we can see that RM has a strong positive correlation with Price (0.7) where as LSTAT has a high negative correlation with Price(-0.74)."
   ]
  },
  {
   "cell_type": "markdown",
   "id": "473258d8",
   "metadata": {},
   "source": [
    "An important point in selecting features for a linear regression model is to check for multi-co-linearity. The features RAD, TAX have a correlation of 0.91. These feature pairs are strongly correlated to each other. We should not select both these features together for training the model. Check this for an explanation. Same goes for the features DIS and AGE which have a correlation of -0.75."
   ]
  },
  {
   "cell_type": "markdown",
   "id": "61f5c8e8",
   "metadata": {},
   "source": [
    "### Analysing Correlated Features"
   ]
  },
  {
   "cell_type": "code",
   "execution_count": null,
   "id": "cae1edef",
   "metadata": {},
   "outputs": [],
   "source": [
    "plt.scatter(dataset['CRIM'], dataset['Price'])\n",
    "plt.xlabel(\"Crime Rate\")\n",
    "plt.ylabel(\"Price\")"
   ]
  },
  {
   "cell_type": "code",
   "execution_count": null,
   "id": "56cbe70c",
   "metadata": {
    "scrolled": true
   },
   "outputs": [],
   "source": [
    "sns.regplot(x='CRIM', y='Price', data=dataset)"
   ]
  },
  {
   "cell_type": "markdown",
   "id": "25b46b06",
   "metadata": {},
   "source": [
    "As the crime rate is increasing price of the house decreasing which is negatively correlated."
   ]
  },
  {
   "cell_type": "code",
   "execution_count": null,
   "id": "6af486ae",
   "metadata": {},
   "outputs": [],
   "source": [
    "plt.scatter(dataset['RM'], dataset['Price'])\n",
    "plt.xlabel(\"Avgerage Room\")\n",
    "plt.ylabel(\"Price\")"
   ]
  },
  {
   "cell_type": "code",
   "execution_count": null,
   "id": "f53fa0ea",
   "metadata": {},
   "outputs": [],
   "source": [
    "sns.regplot(x='RM', y='Price', data=dataset)"
   ]
  },
  {
   "cell_type": "markdown",
   "id": "7028208f",
   "metadata": {},
   "source": [
    "As the average nos of room is increasing price of the house increasing which is positive correlation."
   ]
  },
  {
   "cell_type": "code",
   "execution_count": null,
   "id": "a14a2a1e",
   "metadata": {},
   "outputs": [],
   "source": [
    "plt.scatter(dataset['LSTAT'], dataset['Price'])\n",
    "plt.xlabel(\"% lower status of the population\")\n",
    "plt.ylabel(\"Price\")"
   ]
  },
  {
   "cell_type": "code",
   "execution_count": null,
   "id": "4ffb4451",
   "metadata": {},
   "outputs": [],
   "source": [
    "sns.regplot(x='LSTAT', y='Price', data=dataset)"
   ]
  },
  {
   "cell_type": "markdown",
   "id": "daaaaae6",
   "metadata": {},
   "source": [
    "As the % lower status of the population is increases price of the house decreases which is negatively correlated."
   ]
  },
  {
   "cell_type": "code",
   "execution_count": null,
   "id": "1603ff23",
   "metadata": {},
   "outputs": [],
   "source": [
    "sns.regplot(x='CHAS', y='Price', data=dataset)"
   ]
  },
  {
   "cell_type": "markdown",
   "id": "ca252d67",
   "metadata": {},
   "source": [
    "Here no correlation is there."
   ]
  },
  {
   "cell_type": "code",
   "execution_count": null,
   "id": "2d584a11",
   "metadata": {},
   "outputs": [],
   "source": [
    "sns.regplot(x='PTRATIO', y='Price', data=dataset)"
   ]
  },
  {
   "cell_type": "markdown",
   "id": "fa6620f2",
   "metadata": {},
   "source": [
    "As the PTRATIO increases increases Price decreases viceversa which is negatively correlated."
   ]
  },
  {
   "cell_type": "markdown",
   "id": "2aa481ca",
   "metadata": {},
   "source": [
    "### Split the dataset into Independent and Dependent features."
   ]
  },
  {
   "cell_type": "code",
   "execution_count": null,
   "id": "b033cf3a",
   "metadata": {},
   "outputs": [],
   "source": [
    "x = dataset.iloc[:,:-1]\n",
    "y = dataset['Price']"
   ]
  },
  {
   "cell_type": "code",
   "execution_count": null,
   "id": "b23be65d",
   "metadata": {},
   "outputs": [],
   "source": [
    "x"
   ]
  },
  {
   "cell_type": "code",
   "execution_count": null,
   "id": "ea2addff",
   "metadata": {},
   "outputs": [],
   "source": [
    "y"
   ]
  },
  {
   "cell_type": "markdown",
   "id": "6e010c6a",
   "metadata": {},
   "source": [
    "### Split the dataset into train test split"
   ]
  },
  {
   "cell_type": "code",
   "execution_count": null,
   "id": "c7f16c6c",
   "metadata": {},
   "outputs": [],
   "source": [
    "from sklearn.model_selection import train_test_split"
   ]
  },
  {
   "cell_type": "code",
   "execution_count": null,
   "id": "065a44eb",
   "metadata": {},
   "outputs": [],
   "source": [
    "x_train, x_test, y_train, y_test = train_test_split(x, y, test_size=0.3, random_state=42)"
   ]
  },
  {
   "cell_type": "code",
   "execution_count": null,
   "id": "936eb807",
   "metadata": {},
   "outputs": [],
   "source": [
    "print(x_train.shape)\n",
    "print(x_test.shape)\n",
    "print(y_train.shape)\n",
    "print(y_test.shape)"
   ]
  },
  {
   "cell_type": "markdown",
   "id": "da0ebb24",
   "metadata": {},
   "source": [
    "### Before model training we need to do standard scalling."
   ]
  },
  {
   "cell_type": "code",
   "execution_count": null,
   "id": "8aa7e63f",
   "metadata": {},
   "outputs": [],
   "source": [
    "from sklearn.preprocessing import StandardScaler\n",
    "scaler = StandardScaler()"
   ]
  },
  {
   "cell_type": "code",
   "execution_count": null,
   "id": "61587b14",
   "metadata": {},
   "outputs": [],
   "source": [
    "x_train = scaler.fit_transform(x_train)"
   ]
  },
  {
   "cell_type": "code",
   "execution_count": null,
   "id": "99821d19",
   "metadata": {},
   "outputs": [],
   "source": [
    "x_test = scaler.transform(x_test) "
   ]
  },
  {
   "cell_type": "code",
   "execution_count": null,
   "id": "74fcd36b",
   "metadata": {},
   "outputs": [],
   "source": [
    "import pickle\n",
    "pickle.dump(scaler,open('scaling.pkl','wb'))"
   ]
  },
  {
   "cell_type": "markdown",
   "id": "9c969fbb",
   "metadata": {},
   "source": [
    "Here we didn't fit the x_test because we are going to make sure that what ever the information i have regarding the train data set and what ever techniques i have applied to for transforming it the same techniques needs to be applied to the test dataset. This does because my model shouldn't know much information about test dataset.  "
   ]
  },
  {
   "cell_type": "code",
   "execution_count": null,
   "id": "45aecdaf",
   "metadata": {},
   "outputs": [],
   "source": [
    "x_train"
   ]
  },
  {
   "cell_type": "code",
   "execution_count": null,
   "id": "64e0b084",
   "metadata": {
    "scrolled": true
   },
   "outputs": [],
   "source": [
    "x_test"
   ]
  },
  {
   "cell_type": "markdown",
   "id": "240cb748",
   "metadata": {},
   "source": [
    "## Model Training"
   ]
  },
  {
   "cell_type": "code",
   "execution_count": null,
   "id": "f113af85",
   "metadata": {},
   "outputs": [],
   "source": [
    "from sklearn.linear_model import LinearRegression"
   ]
  },
  {
   "cell_type": "code",
   "execution_count": null,
   "id": "a7e866b7",
   "metadata": {},
   "outputs": [],
   "source": [
    "regression = LinearRegression()"
   ]
  },
  {
   "cell_type": "code",
   "execution_count": null,
   "id": "2ecf430f",
   "metadata": {},
   "outputs": [],
   "source": [
    "regression.fit(x_train,y_train)"
   ]
  },
  {
   "cell_type": "code",
   "execution_count": null,
   "id": "dfafbcb3",
   "metadata": {},
   "outputs": [],
   "source": [
    "## print the coefficients and the intercept\n",
    "print(regression.coef_)"
   ]
  },
  {
   "cell_type": "code",
   "execution_count": null,
   "id": "c6a67b94",
   "metadata": {},
   "outputs": [],
   "source": [
    "print(regression.intercept_)"
   ]
  },
  {
   "cell_type": "code",
   "execution_count": null,
   "id": "858eeeea",
   "metadata": {},
   "outputs": [],
   "source": [
    "## on which parameters the model has been trained\n",
    "regression.get_params()"
   ]
  },
  {
   "cell_type": "code",
   "execution_count": null,
   "id": "57ef3a0e",
   "metadata": {},
   "outputs": [],
   "source": [
    "### prediction with test data\n",
    "reg_pred = regression.predict(x_test)"
   ]
  },
  {
   "cell_type": "code",
   "execution_count": null,
   "id": "f5ba8bad",
   "metadata": {},
   "outputs": [],
   "source": [
    "reg_pred"
   ]
  },
  {
   "cell_type": "markdown",
   "id": "2d38389b",
   "metadata": {},
   "source": [
    "### Assumptions"
   ]
  },
  {
   "cell_type": "code",
   "execution_count": null,
   "id": "92ae124e",
   "metadata": {},
   "outputs": [],
   "source": [
    "## plot a scatter plot for the prediction\n",
    "plt.scatter(y_test, reg_pred)"
   ]
  },
  {
   "cell_type": "code",
   "execution_count": null,
   "id": "da3ae5ce",
   "metadata": {},
   "outputs": [],
   "source": [
    "residuals = y_test - reg_pred"
   ]
  },
  {
   "cell_type": "code",
   "execution_count": null,
   "id": "17f8e7fe",
   "metadata": {},
   "outputs": [],
   "source": [
    "residuals"
   ]
  },
  {
   "cell_type": "code",
   "execution_count": null,
   "id": "27b8f836",
   "metadata": {},
   "outputs": [],
   "source": [
    "## plot this residuals"
   ]
  },
  {
   "cell_type": "code",
   "execution_count": null,
   "id": "4e3ffe2e",
   "metadata": {},
   "outputs": [],
   "source": [
    "sns.displot(residuals, kind=\"kde\")"
   ]
  },
  {
   "cell_type": "code",
   "execution_count": null,
   "id": "b323696b",
   "metadata": {},
   "outputs": [],
   "source": [
    "## scaatter plot w.r.t prediction and residuals\n",
    "## uniform distribution\n",
    "plt.scatter(reg_pred, residuals)"
   ]
  },
  {
   "cell_type": "code",
   "execution_count": null,
   "id": "645b69f9",
   "metadata": {},
   "outputs": [],
   "source": [
    "from sklearn.metrics import mean_squared_error\n",
    "from sklearn.metrics import mean_absolute_error\n",
    "\n",
    "print(mean_squared_error(y_test, reg_pred))\n",
    "print(mean_absolute_error(y_test, reg_pred))\n",
    "print(np.sqrt(mean_squared_error(y_test, reg_pred)))"
   ]
  },
  {
   "cell_type": "markdown",
   "id": "e81a543a",
   "metadata": {},
   "source": [
    "### R Square and Adjusted R Square"
   ]
  },
  {
   "cell_type": "raw",
   "id": "537db8aa",
   "metadata": {},
   "source": [
    "R Square"
   ]
  },
  {
   "cell_type": "code",
   "execution_count": null,
   "id": "54949cf8",
   "metadata": {},
   "outputs": [],
   "source": [
    "from sklearn.metrics import r2_score\n",
    "score = r2_score(y_test, reg_pred)\n",
    "score"
   ]
  },
  {
   "cell_type": "raw",
   "id": "54d6a174",
   "metadata": {},
   "source": [
    "Adjusted R"
   ]
  },
  {
   "cell_type": "code",
   "execution_count": null,
   "id": "c499034a",
   "metadata": {},
   "outputs": [],
   "source": [
    "1 - (1-score)*(len(y_test)-1)/(len(y_test)-x_test.shape[1]-1)"
   ]
  },
  {
   "cell_type": "raw",
   "id": "fd0f6420",
   "metadata": {},
   "source": [
    "So here r2 > adjusted r2 which is indicate that this is a good model."
   ]
  },
  {
   "cell_type": "markdown",
   "id": "37d77fe3",
   "metadata": {},
   "source": [
    "### New Data Prediction"
   ]
  },
  {
   "cell_type": "code",
   "execution_count": null,
   "id": "da1e9f60",
   "metadata": {},
   "outputs": [],
   "source": [
    "boston.data"
   ]
  },
  {
   "cell_type": "code",
   "execution_count": null,
   "id": "856a3f54",
   "metadata": {},
   "outputs": [],
   "source": [
    "boston.data[0].shape #Let's take 1st data point and predict"
   ]
  },
  {
   "cell_type": "code",
   "execution_count": null,
   "id": "323ce803",
   "metadata": {},
   "outputs": [],
   "source": [
    "boston.data[0].reshape(1,-1) #Model should be in 2d array format."
   ]
  },
  {
   "cell_type": "code",
   "execution_count": null,
   "id": "012d0826",
   "metadata": {},
   "outputs": [],
   "source": [
    "## Transformation of new data\n",
    "scaler.transform(boston.data[0].reshape(1,-1))"
   ]
  },
  {
   "cell_type": "code",
   "execution_count": null,
   "id": "7e9c4b09",
   "metadata": {},
   "outputs": [],
   "source": [
    "regression.predict(scaler.transform(boston.data[0].reshape(1,-1)))"
   ]
  },
  {
   "cell_type": "markdown",
   "id": "238a097e",
   "metadata": {},
   "source": [
    "### Pickling The Model file For Deployment"
   ]
  },
  {
   "cell_type": "code",
   "execution_count": null,
   "id": "abe981a0",
   "metadata": {},
   "outputs": [],
   "source": [
    "import pickle"
   ]
  },
  {
   "cell_type": "code",
   "execution_count": null,
   "id": "cd103e72",
   "metadata": {},
   "outputs": [],
   "source": [
    "pickle.dump(regression, open('regmodel.pkl','wb'))"
   ]
  },
  {
   "cell_type": "code",
   "execution_count": null,
   "id": "337902a6",
   "metadata": {},
   "outputs": [],
   "source": [
    "pickled_model = pickle.load(open('regmodel.pkl','rb'))"
   ]
  },
  {
   "cell_type": "code",
   "execution_count": null,
   "id": "c9ae6a3f",
   "metadata": {},
   "outputs": [],
   "source": [
    "## Prediction \n",
    "pickled_model.predict(scaler.transform(boston.data[0].reshape(1,-1)))"
   ]
  }
 ],
 "metadata": {
  "kernelspec": {
   "display_name": "Python 3.9.0 (conda)",
   "language": "python",
   "name": "python3"
  },
  "language_info": {
   "codemirror_mode": {
    "name": "ipython",
    "version": 3
   },
   "file_extension": ".py",
   "mimetype": "text/x-python",
   "name": "python",
   "nbconvert_exporter": "python",
   "pygments_lexer": "ipython3",
   "version": "3.9.0"
  },
  "vscode": {
   "interpreter": {
    "hash": "cb53f245a13846e7f9ecc78c0014e1d5ec263044cf5b66d6dbc6fed608ca96bf"
   }
  }
 },
 "nbformat": 4,
 "nbformat_minor": 5
}
